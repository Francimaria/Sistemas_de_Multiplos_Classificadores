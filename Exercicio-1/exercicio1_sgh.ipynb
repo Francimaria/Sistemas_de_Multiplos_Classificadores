{
  "nbformat": 4,
  "nbformat_minor": 0,
  "metadata": {
    "colab": {
      "name": "exercicio1_sgh.ipynb",
      "provenance": [],
      "toc_visible": true,
      "authorship_tag": "ABX9TyOwIzqyhEVmh4wdYBLcQFQv",
      "include_colab_link": true
    },
    "kernelspec": {
      "name": "python3",
      "display_name": "Python 3"
    }
  },
  "cells": [
    {
      "cell_type": "markdown",
      "metadata": {
        "id": "view-in-github",
        "colab_type": "text"
      },
      "source": [
        "<a href=\"https://colab.research.google.com/github/Francimaria/Sistemas_de_Multiplos_Classificadores/blob/main/exercicio1_sgh.ipynb\" target=\"_parent\"><img src=\"https://colab.research.google.com/assets/colab-badge.svg\" alt=\"Open In Colab\"/></a>"
      ]
    },
    {
      "cell_type": "code",
      "metadata": {
        "id": "jDlsHtyAJqWA"
      },
      "source": [
        "import warnings\n",
        "warnings.filterwarnings('ignore')"
      ],
      "execution_count": 1,
      "outputs": []
    },
    {
      "cell_type": "code",
      "metadata": {
        "colab": {
          "base_uri": "https://localhost:8080/"
        },
        "id": "EJH6pDpOJz4I",
        "outputId": "3f9f17dc-d7ce-4912-9d43-1e235669186e"
      },
      "source": [
        "!pip install  deslib"
      ],
      "execution_count": 2,
      "outputs": [
        {
          "output_type": "stream",
          "text": [
            "Collecting deslib\n",
            "\u001b[?25l  Downloading https://files.pythonhosted.org/packages/4b/36/89c48ec8fbb01c41d9262453141c9aabdc243acc896e46070fedc973a08a/DESlib-0.3-py3-none-any.whl (152kB)\n",
            "\r\u001b[K     |██▏                             | 10kB 17.3MB/s eta 0:00:01\r\u001b[K     |████▎                           | 20kB 20.9MB/s eta 0:00:01\r\u001b[K     |██████▌                         | 30kB 13.8MB/s eta 0:00:01\r\u001b[K     |████████▋                       | 40kB 11.3MB/s eta 0:00:01\r\u001b[K     |██████████▊                     | 51kB 8.1MB/s eta 0:00:01\r\u001b[K     |█████████████                   | 61kB 8.5MB/s eta 0:00:01\r\u001b[K     |███████████████                 | 71kB 7.4MB/s eta 0:00:01\r\u001b[K     |█████████████████▏              | 81kB 8.2MB/s eta 0:00:01\r\u001b[K     |███████████████████▍            | 92kB 9.1MB/s eta 0:00:01\r\u001b[K     |█████████████████████▌          | 102kB 9.0MB/s eta 0:00:01\r\u001b[K     |███████████████████████▋        | 112kB 9.0MB/s eta 0:00:01\r\u001b[K     |█████████████████████████▉      | 122kB 9.0MB/s eta 0:00:01\r\u001b[K     |████████████████████████████    | 133kB 9.0MB/s eta 0:00:01\r\u001b[K     |██████████████████████████████  | 143kB 9.0MB/s eta 0:00:01\r\u001b[K     |████████████████████████████████| 153kB 9.0MB/s \n",
            "\u001b[?25hRequirement already satisfied: scipy>=1.2.0 in /usr/local/lib/python3.6/dist-packages (from deslib) (1.4.1)\n",
            "Requirement already satisfied: numpy>=1.10.4 in /usr/local/lib/python3.6/dist-packages (from deslib) (1.19.4)\n",
            "Requirement already satisfied: scikit-learn>=0.19.0 in /usr/local/lib/python3.6/dist-packages (from deslib) (0.22.2.post1)\n",
            "Requirement already satisfied: joblib>=0.11 in /usr/local/lib/python3.6/dist-packages (from scikit-learn>=0.19.0->deslib) (1.0.0)\n",
            "Installing collected packages: deslib\n",
            "Successfully installed deslib-0.3\n"
          ],
          "name": "stdout"
        }
      ]
    },
    {
      "cell_type": "code",
      "metadata": {
        "id": "4JyLmXz7J3Bc"
      },
      "source": [
        "import pandas as pd\n",
        "import matplotlib.pyplot as plt\n",
        "import numpy as np\n",
        "\n",
        "from sklearn.linear_model import Perceptron\n",
        "from sklearn.ensemble import BaseEnsemble\n",
        "from sklearn.linear_model import SGDClassifier\n",
        "from scipy import stats\n",
        "\n",
        "from sklearn import preprocessing\n",
        "from sklearn.model_selection import StratifiedKFold, KFold\n",
        "from sklearn.metrics import accuracy_score, classification_report, confusion_matrix\n",
        "\n",
        "from deslib.static import Oracle"
      ],
      "execution_count": 3,
      "outputs": []
    },
    {
      "cell_type": "markdown",
      "metadata": {
        "id": "68zCjAgHKB9H"
      },
      "source": [
        "### **Questão 2**\n",
        "\n",
        "Use as mesma bases de dados e os mesmos folds da questão anterior e, para cada base: - use o SGH para gerar o pool de classificadores no conjunto de treinamento; - calcule o Oracle do pool no conjunto de teste; - verifique quantas instâncias por classe foram incorretamente classificadas; - verifique quantos hiperplanos por classe foram gerados. Analise os resultados coletados."
      ]
    },
    {
      "cell_type": "code",
      "metadata": {
        "id": "nxAmlpa5J9kp"
      },
      "source": [
        "file_1_name = \"https://raw.githubusercontent.com/Francimaria/Sistemas_de_Multiplos_Classificadores/main/dataset/messidor_features.csv\"\n",
        "file_2_name = \"https://raw.githubusercontent.com/Francimaria/Sistemas_de_Multiplos_Classificadores/main/dataset/breast-cancer-wisconsin.csv\"\n",
        "file_3_name = \"https://raw.githubusercontent.com/Francimaria/Sistemas_de_Multiplos_Classificadores/main/dataset/data_banknote_authentication.csv\"\n",
        "file_4_name = \"https://raw.githubusercontent.com/Francimaria/Sistemas_de_Multiplos_Classificadores/main/dataset/winequality-white.csv\"\n",
        "file_5_name = \"https://raw.githubusercontent.com/Francimaria/Sistemas_de_Multiplos_Classificadores/main/dataset/Frogs_MFCCs.csv\"\n",
        "\n",
        "df1 = pd.read_csv(file_1_name, header=None,skiprows=1)\n",
        "df2 = pd.read_csv(file_2_name, header=None)\n",
        "df3 = pd.read_csv(file_3_name, header=None)\n",
        "df4 = pd.read_csv(file_4_name, header=None,skiprows=1, sep=\";\")\n",
        "df5 = pd.read_csv(file_5_name, header=None,skiprows=1)"
      ],
      "execution_count": 4,
      "outputs": []
    },
    {
      "cell_type": "markdown",
      "metadata": {
        "id": "6_v7K7nxKLlz"
      },
      "source": [
        "**Pré-processamento**"
      ]
    },
    {
      "cell_type": "code",
      "metadata": {
        "colab": {
          "base_uri": "https://localhost:8080/"
        },
        "id": "U4SVsPolKJFn",
        "outputId": "acd1cd1f-2a72-41de-b261-e4dee950d88a"
      },
      "source": [
        "print(\"Shape: \", df1.shape)\n",
        "print(df1[df1.columns[-1]].value_counts())\n",
        "\n",
        "print(\"Shape: \", df2.shape)\n",
        "print(\"0 for benign, 1 for malignant\")\n",
        "df2[df2.columns[-1]].replace([2, 4], [0, 1], inplace=True)\n",
        "print(df2[df2.columns[-1]].value_counts())\n",
        "\n",
        "# Remove ID\n",
        "df2 = df2.drop([df2.columns[0]], axis=1)\n",
        "\n",
        "print(\"Shape: \", df3.shape)\n",
        "print(df3[df3.columns[-1]].value_counts())\n",
        "\n",
        "print(\"Shape: \", df4.shape)\n",
        "print(\"Replace classes [3,4,..,9] to [0,1,...6]\")\n",
        "df4[df4.columns[-1]].replace([3,4,5,6,7,8,9], [0,1,2,3,4,5,6], inplace=True)\n",
        "print(df4[df4.columns[-1]].value_counts())\n",
        "\n",
        "# Remover ID, gênero, e espécie (apenas families é usado como classe)\n",
        "df5 = df5.drop([23,24,25], axis=1)\n",
        "\n",
        "print(\"Replace classes [Leptodactylidae, Hylidae, Dendrobatidae, Bufonidae] to [0,1,2,3]\")\n",
        "print(\"Shape: \", df5.shape)\n",
        "df5[df5.columns[-1]].replace(['Leptodactylidae', 'Hylidae', 'Dendrobatidae', 'Bufonidae'], [0,1,2,3], inplace=True)\n",
        "print(df5[df5.columns[-1]].value_counts())"
      ],
      "execution_count": 5,
      "outputs": [
        {
          "output_type": "stream",
          "text": [
            "Shape:  (1151, 20)\n",
            "1    611\n",
            "0    540\n",
            "Name: 19, dtype: int64\n",
            "Shape:  (683, 11)\n",
            "0 for benign, 1 for malignant\n",
            "0    444\n",
            "1    239\n",
            "Name: 10, dtype: int64\n",
            "Shape:  (1372, 5)\n",
            "0    762\n",
            "1    610\n",
            "Name: 4, dtype: int64\n",
            "Shape:  (4898, 12)\n",
            "Replace classes [3,4,..,9] to [0,1,...6]\n",
            "3    2198\n",
            "2    1457\n",
            "4     880\n",
            "5     175\n",
            "1     163\n",
            "0      20\n",
            "6       5\n",
            "Name: 11, dtype: int64\n",
            "Replace classes [Leptodactylidae, Hylidae, Dendrobatidae, Bufonidae] to [0,1,2,3]\n",
            "Shape:  (7195, 23)\n",
            "0    4420\n",
            "1    2165\n",
            "2     542\n",
            "3      68\n",
            "Name: 22, dtype: int64\n"
          ],
          "name": "stdout"
        }
      ]
    },
    {
      "cell_type": "code",
      "metadata": {
        "id": "cCVL69buKTXv"
      },
      "source": [
        "data = []\n",
        "classe = []\n",
        "df = [df1,df2,df3,df4,df5]\n",
        "\n",
        "# Padronização dos dados na mesma escala\n",
        "for d in df:\n",
        "  x = d.drop([d.columns[-1]], axis=1)\n",
        "  x = np.array(preprocessing.scale(x))  \n",
        "  y = np.array(d[d.columns[-1]])\n",
        "  \n",
        "  data.append(x)\n",
        "  classe.append(y)"
      ],
      "execution_count": 6,
      "outputs": []
    },
    {
      "cell_type": "markdown",
      "metadata": {
        "id": "63709jD2KXF5"
      },
      "source": [
        "K-fold inicialização"
      ]
    },
    {
      "cell_type": "code",
      "metadata": {
        "colab": {
          "base_uri": "https://localhost:8080/"
        },
        "id": "oVd-JiL8Kakt",
        "outputId": "7a5aff8d-e7a2-4dcc-fdec-974f0f44891c"
      },
      "source": [
        "#random_state: Using an int will produce the same results across different calls. \n",
        "kf = StratifiedKFold(n_splits=5, random_state=5)\n",
        "\n",
        "n_estimators = np.arange(10, 110, 10)\n",
        "print(n_estimators)\n",
        "\n",
        "base_estimator=Perceptron()\n",
        "print(base_estimator)\n"
      ],
      "execution_count": 7,
      "outputs": [
        {
          "output_type": "stream",
          "text": [
            "[ 10  20  30  40  50  60  70  80  90 100]\n",
            "Perceptron(alpha=0.0001, class_weight=None, early_stopping=False, eta0=1.0,\n",
            "           fit_intercept=True, max_iter=1000, n_iter_no_change=5, n_jobs=None,\n",
            "           penalty=None, random_state=0, shuffle=True, tol=0.001,\n",
            "           validation_fraction=0.1, verbose=0, warm_start=False)\n"
          ],
          "name": "stdout"
        }
      ]
    },
    {
      "cell_type": "code",
      "metadata": {
        "id": "1lQJ-6U5Kkk4"
      },
      "source": [
        "from sgh import SGH"
      ],
      "execution_count": 8,
      "outputs": []
    },
    {
      "cell_type": "code",
      "metadata": {
        "id": "XEZKuyPgKpTV"
      },
      "source": [
        "def run_sgh(pool_classifiers, X, y, ds_name): \n",
        "  score = []\n",
        "  oracle_score = []\n",
        "  estimators = []\n",
        "  qtds = []\n",
        "  misc = []\n",
        "  misc_std = []\n",
        "  classes = np.unique(y)\n",
        "  \n",
        "  for train_index, test_index in kf.split(X, y):\n",
        "    X_train, X_test = X[train_index], X[test_index]\n",
        "    y_train, y_test = y[train_index], y[test_index]\n",
        "\n",
        "    pool_classifiers.fit(X_train, y_train)\n",
        "\n",
        "    est = pool_classifiers.n_estimators\n",
        "    estimators.append(est)\n",
        "\n",
        "    y_pred = pool_classifiers.predict(X_test)\n",
        "\n",
        "    score.append(accuracy_score(y_test,y_pred))\n",
        "   \n",
        "    qtds.append(count_erro(y_test, y_pred, classes))\n",
        "    \n",
        "    oracle = Oracle(pool_classifiers).fit(X_train, y_train)\n",
        "\n",
        "    oracle_score.append(oracle.score(X_test, y_test))  \n",
        "\n",
        "  misc.append(np.mean(qtds, axis=0))\n",
        "  misc_std.append(np.std(qtds, axis=0))\n",
        "\n",
        "  return score, oracle_score, estimators, misc, misc_std"
      ],
      "execution_count": 17,
      "outputs": []
    },
    {
      "cell_type": "code",
      "metadata": {
        "id": "2-pzQUyaKzJa"
      },
      "source": [
        "def count_erro(y_test, y_pred, classes):\n",
        "  y_test = pd.Series(y_test)\n",
        "  y_pred = pd.Series(y_pred)\n",
        "  \n",
        "  classes = sorted(classes)\n",
        "\n",
        "  misclassified = np.zeros(((len(classes)),), dtype=int)\n",
        "\n",
        "  for i in classes:\n",
        "    qtd = 0\n",
        "\n",
        "    for j in range(len(y_test)):\n",
        "      if (y_test[j] == i and y_test[j] != y_pred[j]):\n",
        "        qtd +=1\n",
        "    misclassified[i] = qtd\n",
        "  return misclassified"
      ],
      "execution_count": 18,
      "outputs": []
    },
    {
      "cell_type": "code",
      "metadata": {
        "colab": {
          "base_uri": "https://localhost:8080/",
          "height": 578
        },
        "id": "Hf3gUPOGK4Vy",
        "outputId": "7cff4449-3c30-45e6-c2d5-8886cfb94bc5"
      },
      "source": [
        "# Datafile para salvar os resultados\n",
        "df_result = pd.DataFrame(columns = ['Modelo', 'Dataset','estimators','std', 'Score_mean','Score_std', 'Oracle_mean', 'Oracle_std'])\n",
        "#Executar para todos os conjuntos de dados\n",
        "for i in range(len(data)):\n",
        "  clf = SGH(base_estimator=base_estimator)   \n",
        "  score, oracle, estimators, mean, std = run_sgh(clf, data[i], classe[i], i)\n",
        "  print(\"média\")\n",
        "  print(mean)\n",
        "  print(\"std\")\n",
        "  print(std)\n",
        "\n",
        "  new_row = {'Modelo':\"SGH\",\n",
        "            'Dataset': (i+1), \n",
        "            'estimators': np.mean(estimators),\n",
        "            'std': np.std(estimators),\n",
        "            'Score_mean': \"%0.5f\" % (np.mean(score)),\n",
        "            'Score_std': \"%0.5f\" % (np.std(score)),\n",
        "            'Oracle_mean': \"%0.5f\" % (np.mean(oracle)),\n",
        "            'Oracle_std': \"%0.5f\" % (np.std(oracle))}\n",
        "  df_result = df_result.append(new_row, ignore_index=True)\n",
        "  \n",
        "df_result.to_csv(\"/content/sgh_result.csv\", index=False)\n",
        "df_result"
      ],
      "execution_count": 19,
      "outputs": [
        {
          "output_type": "stream",
          "text": [
            "média\n",
            "[array([85.6, 30.2])]\n",
            "std\n",
            "[array([ 7.73563184, 12.60793401])]\n",
            "média\n",
            "[array([85.6, 44.6])]\n",
            "std\n",
            "[array([1.356466  , 1.95959179])]\n",
            "média\n",
            "[array([72.8,  5.2])]\n",
            "std\n",
            "[array([5.23067873, 1.32664992])]\n",
            "média\n",
            "[array([3.600e+00, 3.240e+01, 2.496e+02, 4.252e+02, 1.746e+02, 2.540e+01,\n",
            "       2.000e-01])]\n",
            "std\n",
            "[array([ 0.8       ,  0.48989795, 83.80119331, 28.60349629,  2.8       ,\n",
            "        3.66606056,  0.4       ])]\n",
            "média\n",
            "[array([727.6, 192.8,  64. ,  13.4])]\n",
            "std\n",
            "[array([303.80625405, 146.27426294,  51.93072308,   0.48989795])]\n"
          ],
          "name": "stdout"
        },
        {
          "output_type": "execute_result",
          "data": {
            "text/html": [
              "<div>\n",
              "<style scoped>\n",
              "    .dataframe tbody tr th:only-of-type {\n",
              "        vertical-align: middle;\n",
              "    }\n",
              "\n",
              "    .dataframe tbody tr th {\n",
              "        vertical-align: top;\n",
              "    }\n",
              "\n",
              "    .dataframe thead th {\n",
              "        text-align: right;\n",
              "    }\n",
              "</style>\n",
              "<table border=\"1\" class=\"dataframe\">\n",
              "  <thead>\n",
              "    <tr style=\"text-align: right;\">\n",
              "      <th></th>\n",
              "      <th>Modelo</th>\n",
              "      <th>Dataset</th>\n",
              "      <th>estimators</th>\n",
              "      <th>std</th>\n",
              "      <th>Score_mean</th>\n",
              "      <th>Score_std</th>\n",
              "      <th>Oracle_mean</th>\n",
              "      <th>Oracle_std</th>\n",
              "    </tr>\n",
              "  </thead>\n",
              "  <tbody>\n",
              "    <tr>\n",
              "      <th>0</th>\n",
              "      <td>SGH</td>\n",
              "      <td>1</td>\n",
              "      <td>6.2</td>\n",
              "      <td>1.6</td>\n",
              "      <td>0.49692</td>\n",
              "      <td>0.02468</td>\n",
              "      <td>0.99913</td>\n",
              "      <td>0.00173</td>\n",
              "    </tr>\n",
              "    <tr>\n",
              "      <th>1</th>\n",
              "      <td>SGH</td>\n",
              "      <td>2</td>\n",
              "      <td>3.8</td>\n",
              "      <td>0.4</td>\n",
              "      <td>0.04680</td>\n",
              "      <td>0.02139</td>\n",
              "      <td>0.99854</td>\n",
              "      <td>0.00292</td>\n",
              "    </tr>\n",
              "    <tr>\n",
              "      <th>2</th>\n",
              "      <td>SGH</td>\n",
              "      <td>3</td>\n",
              "      <td>3.0</td>\n",
              "      <td>0.0</td>\n",
              "      <td>0.71572</td>\n",
              "      <td>0.02360</td>\n",
              "      <td>1.00000</td>\n",
              "      <td>0.00000</td>\n",
              "    </tr>\n",
              "    <tr>\n",
              "      <th>3</th>\n",
              "      <td>SGH</td>\n",
              "      <td>4</td>\n",
              "      <td>21.6</td>\n",
              "      <td>4.8</td>\n",
              "      <td>0.07000</td>\n",
              "      <td>0.11657</td>\n",
              "      <td>0.99878</td>\n",
              "      <td>0.00245</td>\n",
              "    </tr>\n",
              "    <tr>\n",
              "      <th>4</th>\n",
              "      <td>SGH</td>\n",
              "      <td>5</td>\n",
              "      <td>10.6</td>\n",
              "      <td>2.8</td>\n",
              "      <td>0.30660</td>\n",
              "      <td>0.15001</td>\n",
              "      <td>0.97832</td>\n",
              "      <td>0.04336</td>\n",
              "    </tr>\n",
              "  </tbody>\n",
              "</table>\n",
              "</div>"
            ],
            "text/plain": [
              "  Modelo Dataset  estimators  std Score_mean Score_std Oracle_mean Oracle_std\n",
              "0    SGH       1         6.2  1.6    0.49692   0.02468     0.99913    0.00173\n",
              "1    SGH       2         3.8  0.4    0.04680   0.02139     0.99854    0.00292\n",
              "2    SGH       3         3.0  0.0    0.71572   0.02360     1.00000    0.00000\n",
              "3    SGH       4        21.6  4.8    0.07000   0.11657     0.99878    0.00245\n",
              "4    SGH       5        10.6  2.8    0.30660   0.15001     0.97832    0.04336"
            ]
          },
          "metadata": {
            "tags": []
          },
          "execution_count": 19
        }
      ]
    }
  ]
}
